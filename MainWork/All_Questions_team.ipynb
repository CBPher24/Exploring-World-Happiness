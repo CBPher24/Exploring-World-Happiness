{
 "cells": [
  {
   "cell_type": "code",
   "execution_count": 1,
   "metadata": {},
   "outputs": [],
   "source": [
    "# blanket import modules\n",
    "import matplotlib.pyplot as plt\n",
    "import pandas as pd\n",
    "import scipy.stats as st\n",
    "import numpy as np\n",
    "import pprint\n",
    "from scipy.stats import linregress"
   ]
  },
  {
   "cell_type": "code",
   "execution_count": 2,
   "metadata": {},
   "outputs": [],
   "source": [
    "# setting up paths for data\n",
    "happy_cs = \"Output/happy_comb-data.csv\""
   ]
  },
  {
   "cell_type": "code",
   "execution_count": 3,
   "metadata": {},
   "outputs": [
    {
     "data": {
      "text/html": [
       "<div>\n",
       "<style scoped>\n",
       "    .dataframe tbody tr th:only-of-type {\n",
       "        vertical-align: middle;\n",
       "    }\n",
       "\n",
       "    .dataframe tbody tr th {\n",
       "        vertical-align: top;\n",
       "    }\n",
       "\n",
       "    .dataframe thead th {\n",
       "        text-align: right;\n",
       "    }\n",
       "</style>\n",
       "<table border=\"1\" class=\"dataframe\">\n",
       "  <thead>\n",
       "    <tr style=\"text-align: right;\">\n",
       "      <th></th>\n",
       "      <th>RANK</th>\n",
       "      <th>Country</th>\n",
       "      <th>Happiness Score</th>\n",
       "      <th>Healthy Life Expectancy</th>\n",
       "      <th>Sunshine Hrs per Year</th>\n",
       "      <th>Average Income ($)</th>\n",
       "      <th>Alcohol Consumption (L/year)</th>\n",
       "    </tr>\n",
       "  </thead>\n",
       "  <tbody>\n",
       "    <tr>\n",
       "      <th>0</th>\n",
       "      <td>1</td>\n",
       "      <td>Finland</td>\n",
       "      <td>7.821</td>\n",
       "      <td>0.775</td>\n",
       "      <td>1858.00</td>\n",
       "      <td>18742.0</td>\n",
       "      <td>10.65</td>\n",
       "    </tr>\n",
       "    <tr>\n",
       "      <th>1</th>\n",
       "      <td>2</td>\n",
       "      <td>Denmark</td>\n",
       "      <td>7.636</td>\n",
       "      <td>0.777</td>\n",
       "      <td>1932.00</td>\n",
       "      <td>20304.0</td>\n",
       "      <td>10.13</td>\n",
       "    </tr>\n",
       "    <tr>\n",
       "      <th>2</th>\n",
       "      <td>3</td>\n",
       "      <td>Iceland</td>\n",
       "      <td>7.557</td>\n",
       "      <td>0.803</td>\n",
       "      <td>1326.00</td>\n",
       "      <td>19300.0</td>\n",
       "      <td>9.21</td>\n",
       "    </tr>\n",
       "    <tr>\n",
       "      <th>3</th>\n",
       "      <td>4</td>\n",
       "      <td>Switzerland</td>\n",
       "      <td>7.512</td>\n",
       "      <td>0.822</td>\n",
       "      <td>1932.75</td>\n",
       "      <td>25787.0</td>\n",
       "      <td>11.23</td>\n",
       "    </tr>\n",
       "    <tr>\n",
       "      <th>4</th>\n",
       "      <td>5</td>\n",
       "      <td>Netherlands</td>\n",
       "      <td>7.415</td>\n",
       "      <td>0.787</td>\n",
       "      <td>1662.00</td>\n",
       "      <td>19690.0</td>\n",
       "      <td>9.67</td>\n",
       "    </tr>\n",
       "    <tr>\n",
       "      <th>...</th>\n",
       "      <td>...</td>\n",
       "      <td>...</td>\n",
       "      <td>...</td>\n",
       "      <td>...</td>\n",
       "      <td>...</td>\n",
       "      <td>...</td>\n",
       "      <td>...</td>\n",
       "    </tr>\n",
       "    <tr>\n",
       "      <th>93</th>\n",
       "      <td>136</td>\n",
       "      <td>India</td>\n",
       "      <td>3.777</td>\n",
       "      <td>0.471</td>\n",
       "      <td>2517.02</td>\n",
       "      <td>1314.0</td>\n",
       "      <td>5.61</td>\n",
       "    </tr>\n",
       "    <tr>\n",
       "      <th>94</th>\n",
       "      <td>137</td>\n",
       "      <td>Zambia</td>\n",
       "      <td>3.760</td>\n",
       "      <td>0.306</td>\n",
       "      <td>2965.47</td>\n",
       "      <td>1045.0</td>\n",
       "      <td>4.46</td>\n",
       "    </tr>\n",
       "    <tr>\n",
       "      <th>95</th>\n",
       "      <td>138</td>\n",
       "      <td>Malawi</td>\n",
       "      <td>3.750</td>\n",
       "      <td>0.388</td>\n",
       "      <td>2795.87</td>\n",
       "      <td>733.0</td>\n",
       "      <td>4.08</td>\n",
       "    </tr>\n",
       "    <tr>\n",
       "      <th>96</th>\n",
       "      <td>139</td>\n",
       "      <td>Tanzania</td>\n",
       "      <td>3.702</td>\n",
       "      <td>0.425</td>\n",
       "      <td>3032.85</td>\n",
       "      <td>992.0</td>\n",
       "      <td>12.04</td>\n",
       "    </tr>\n",
       "    <tr>\n",
       "      <th>97</th>\n",
       "      <td>144</td>\n",
       "      <td>Zimbabwe</td>\n",
       "      <td>2.995</td>\n",
       "      <td>0.270</td>\n",
       "      <td>3065.40</td>\n",
       "      <td>1429.0</td>\n",
       "      <td>4.52</td>\n",
       "    </tr>\n",
       "  </tbody>\n",
       "</table>\n",
       "<p>98 rows × 7 columns</p>\n",
       "</div>"
      ],
      "text/plain": [
       "    RANK      Country  Happiness Score  Healthy Life Expectancy  \\\n",
       "0      1      Finland            7.821                    0.775   \n",
       "1      2      Denmark            7.636                    0.777   \n",
       "2      3      Iceland            7.557                    0.803   \n",
       "3      4  Switzerland            7.512                    0.822   \n",
       "4      5  Netherlands            7.415                    0.787   \n",
       "..   ...          ...              ...                      ...   \n",
       "93   136        India            3.777                    0.471   \n",
       "94   137       Zambia            3.760                    0.306   \n",
       "95   138       Malawi            3.750                    0.388   \n",
       "96   139     Tanzania            3.702                    0.425   \n",
       "97   144     Zimbabwe            2.995                    0.270   \n",
       "\n",
       "    Sunshine Hrs per Year  Average Income ($)  Alcohol Consumption (L/year)  \n",
       "0                 1858.00             18742.0                         10.65  \n",
       "1                 1932.00             20304.0                         10.13  \n",
       "2                 1326.00             19300.0                          9.21  \n",
       "3                 1932.75             25787.0                         11.23  \n",
       "4                 1662.00             19690.0                          9.67  \n",
       "..                    ...                 ...                           ...  \n",
       "93                2517.02              1314.0                          5.61  \n",
       "94                2965.47              1045.0                          4.46  \n",
       "95                2795.87               733.0                          4.08  \n",
       "96                3032.85               992.0                         12.04  \n",
       "97                3065.40              1429.0                          4.52  \n",
       "\n",
       "[98 rows x 7 columns]"
      ]
     },
     "execution_count": 3,
     "metadata": {},
     "output_type": "execute_result"
    }
   ],
   "source": [
    "happy_df = pd.read_csv(happy_cs)\n",
    "happy_df"
   ]
  },
  {
   "cell_type": "code",
   "execution_count": 16,
   "metadata": {},
   "outputs": [],
   "source": [
    "# Linear Regression Function\n",
    "plt.style.use(\"ggplot\")\n",
    "\n",
    "def linear_regression(x_axis_lreg, y_axis_lreg, x_label, y_label, line_eq_x, line_eq_y):\n",
    "    \n",
    "    (slope, intercept, rvalue, pvalue, stderr) = linregress(x_axis_lreg, y_axis_lreg)\n",
    "    regress_values = x_axis_lreg * slope + intercept\n",
    "    line_eq = (f'y = {(round(slope,2))}x  + {(round(intercept,2))}')\n",
    "\n",
    "    plt.scatter(x_axis_lreg, y_axis_lreg, marker = 'o', facecolor = 'cornflowerblue', edgecolor = 'black')\n",
    "    plt.xlabel(x_label)\n",
    "    plt.ylabel(y_label)\n",
    "    plt.title(f'Country Happiness Score vs. {y_label}', fontsize = 12)\n",
    "    plt.plot(x_axis_lreg, regress_values, 'r')\n",
    "    plt.annotate(line_eq, (line_eq_x, line_eq_y), fontsize = 12, color = 'red', size = 14)\n",
    "    plt.show\n",
    "    \n",
    "    correlation = st.pearsonr(x_axis_lreg, y_axis_lreg)\n",
    "    print(f'The correlation between Happiness and {y_label} is {(round(correlation[0],2))}.')\n",
    "    \n",
    "#     print(f'The r-square value is: {round(rvalue**2,2)}.')"
   ]
  },
  {
   "cell_type": "markdown",
   "metadata": {},
   "source": [
    "## Happiness by average income\n",
    "#### Q: Are countries with higher average incomes happier?"
   ]
  },
  {
   "cell_type": "code",
   "execution_count": 17,
   "metadata": {},
   "outputs": [
    {
     "name": "stdout",
     "output_type": "stream",
     "text": [
      "The correlation between Happiness and Average Income is 0.84.\n"
     ]
    },
    {
     "data": {
      "image/png": "[encoded data removed]",
      "text/plain": [
       "<Figure size 432x288 with 1 Axes>"
      ]
     },
     "metadata": {},
     "output_type": "display_data"
    }
   ],
   "source": [
    "linear_regression(happy_df['Happiness Score'], happy_df['Average Income ($)'], 'Happiness Score', 'Average Income', 5, -5000)"
   ]
  },
  {
   "cell_type": "code",
   "execution_count": 18,
   "metadata": {
    "scrolled": true
   },
   "outputs": [
    {
     "data": {
      "text/html": [
       "<div>\n",
       "<style scoped>\n",
       "    .dataframe tbody tr th:only-of-type {\n",
       "        vertical-align: middle;\n",
       "    }\n",
       "\n",
       "    .dataframe tbody tr th {\n",
       "        vertical-align: top;\n",
       "    }\n",
       "\n",
       "    .dataframe thead th {\n",
       "        text-align: right;\n",
       "    }\n",
       "</style>\n",
       "<table border=\"1\" class=\"dataframe\">\n",
       "  <thead>\n",
       "    <tr style=\"text-align: right;\">\n",
       "      <th></th>\n",
       "      <th>RANK</th>\n",
       "      <th>Country</th>\n",
       "      <th>Happiness Score</th>\n",
       "      <th>Healthy Life Expectancy</th>\n",
       "      <th>Sunshine Hrs per Year</th>\n",
       "      <th>Average Income ($)</th>\n",
       "      <th>Alcohol Consumption (L/year)</th>\n",
       "    </tr>\n",
       "  </thead>\n",
       "  <tbody>\n",
       "    <tr>\n",
       "      <th>3</th>\n",
       "      <td>4</td>\n",
       "      <td>Switzerland</td>\n",
       "      <td>7.512</td>\n",
       "      <td>0.822</td>\n",
       "      <td>1932.75</td>\n",
       "      <td>25787.0</td>\n",
       "      <td>11.23</td>\n",
       "    </tr>\n",
       "    <tr>\n",
       "      <th>13</th>\n",
       "      <td>16</td>\n",
       "      <td>United States of America</td>\n",
       "      <td>6.977</td>\n",
       "      <td>0.628</td>\n",
       "      <td>2827.62</td>\n",
       "      <td>25332.0</td>\n",
       "      <td>9.97</td>\n",
       "    </tr>\n",
       "    <tr>\n",
       "      <th>6</th>\n",
       "      <td>8</td>\n",
       "      <td>Norway</td>\n",
       "      <td>7.365</td>\n",
       "      <td>0.786</td>\n",
       "      <td>1373.33</td>\n",
       "      <td>25272.0</td>\n",
       "      <td>7.14</td>\n",
       "    </tr>\n",
       "    <tr>\n",
       "      <th>12</th>\n",
       "      <td>15</td>\n",
       "      <td>Canada</td>\n",
       "      <td>7.025</td>\n",
       "      <td>0.783</td>\n",
       "      <td>2028.04</td>\n",
       "      <td>22042.0</td>\n",
       "      <td>8.81</td>\n",
       "    </tr>\n",
       "    <tr>\n",
       "      <th>9</th>\n",
       "      <td>12</td>\n",
       "      <td>Australia</td>\n",
       "      <td>7.162</td>\n",
       "      <td>0.772</td>\n",
       "      <td>2843.57</td>\n",
       "      <td>21329.0</td>\n",
       "      <td>10.36</td>\n",
       "    </tr>\n",
       "  </tbody>\n",
       "</table>\n",
       "</div>"
      ],
      "text/plain": [
       "    RANK                   Country  Happiness Score  Healthy Life Expectancy  \\\n",
       "3      4               Switzerland            7.512                    0.822   \n",
       "13    16  United States of America            6.977                    0.628   \n",
       "6      8                    Norway            7.365                    0.786   \n",
       "12    15                    Canada            7.025                    0.783   \n",
       "9     12                 Australia            7.162                    0.772   \n",
       "\n",
       "    Sunshine Hrs per Year  Average Income ($)  Alcohol Consumption (L/year)  \n",
       "3                 1932.75             25787.0                         11.23  \n",
       "13                2827.62             25332.0                          9.97  \n",
       "6                 1373.33             25272.0                          7.14  \n",
       "12                2028.04             22042.0                          8.81  \n",
       "9                 2843.57             21329.0                         10.36  "
      ]
     },
     "execution_count": 18,
     "metadata": {},
     "output_type": "execute_result"
    }
   ],
   "source": [
    "avg_income = happy_df.sort_values('Average Income ($)', ascending = False)\n",
    "avg_income.head()"
   ]
  },
  {
   "cell_type": "markdown",
   "metadata": {},
   "source": [
    "## Happiness by annual sunshine \n",
    "#### Q: Does the weather of a country (av sunshine) influence happiness?"
   ]
  },
  {
   "cell_type": "code",
   "execution_count": 25,
   "metadata": {
    "scrolled": true
   },
   "outputs": [
    {
     "name": "stdout",
     "output_type": "stream",
     "text": [
      "The correlation between Happiness and Sunshine Hours per Year is -0.54.\n"
     ]
    },
    {
     "data": {
      "image/png": "[encoded data removed]",
      "text/plain": [
       "<Figure size 432x288 with 1 Axes>"
      ]
     },
     "metadata": {},
     "output_type": "display_data"
    }
   ],
   "source": [
    "linear_regression(happy_df['Happiness Score'], happy_df['Sunshine Hrs per Year'], 'Happiness Score', 'Sunshine Hours per Year', 3, 1500)"
   ]
  },
  {
   "cell_type": "code",
   "execution_count": 26,
   "metadata": {},
   "outputs": [
    {
     "data": {
      "text/html": [
       "<div>\n",
       "<style scoped>\n",
       "    .dataframe tbody tr th:only-of-type {\n",
       "        vertical-align: middle;\n",
       "    }\n",
       "\n",
       "    .dataframe tbody tr th {\n",
       "        vertical-align: top;\n",
       "    }\n",
       "\n",
       "    .dataframe thead th {\n",
       "        text-align: right;\n",
       "    }\n",
       "</style>\n",
       "<table border=\"1\" class=\"dataframe\">\n",
       "  <thead>\n",
       "    <tr style=\"text-align: right;\">\n",
       "      <th></th>\n",
       "      <th>RANK</th>\n",
       "      <th>Country</th>\n",
       "      <th>Happiness Score</th>\n",
       "      <th>Healthy Life Expectancy</th>\n",
       "      <th>Sunshine Hrs per Year</th>\n",
       "      <th>Average Income ($)</th>\n",
       "      <th>Alcohol Consumption (L/year)</th>\n",
       "    </tr>\n",
       "  </thead>\n",
       "  <tbody>\n",
       "    <tr>\n",
       "      <th>89</th>\n",
       "      <td>124</td>\n",
       "      <td>Namibia</td>\n",
       "      <td>4.459</td>\n",
       "      <td>0.354</td>\n",
       "      <td>3737.50</td>\n",
       "      <td>4023.0</td>\n",
       "      <td>3.15</td>\n",
       "    </tr>\n",
       "    <tr>\n",
       "      <th>90</th>\n",
       "      <td>129</td>\n",
       "      <td>Egypt</td>\n",
       "      <td>4.288</td>\n",
       "      <td>0.548</td>\n",
       "      <td>3710.68</td>\n",
       "      <td>1847.0</td>\n",
       "      <td>0.14</td>\n",
       "    </tr>\n",
       "    <tr>\n",
       "      <th>29</th>\n",
       "      <td>41</td>\n",
       "      <td>Cyprus</td>\n",
       "      <td>6.221</td>\n",
       "      <td>0.819</td>\n",
       "      <td>3314.10</td>\n",
       "      <td>15663.0</td>\n",
       "      <td>10.80</td>\n",
       "    </tr>\n",
       "    <tr>\n",
       "      <th>7</th>\n",
       "      <td>9</td>\n",
       "      <td>Israel</td>\n",
       "      <td>7.364</td>\n",
       "      <td>0.818</td>\n",
       "      <td>3311.00</td>\n",
       "      <td>13271.0</td>\n",
       "      <td>4.38</td>\n",
       "    </tr>\n",
       "    <tr>\n",
       "      <th>67</th>\n",
       "      <td>96</td>\n",
       "      <td>Algeria</td>\n",
       "      <td>5.122</td>\n",
       "      <td>0.643</td>\n",
       "      <td>3266.50</td>\n",
       "      <td>2996.0</td>\n",
       "      <td>0.63</td>\n",
       "    </tr>\n",
       "  </tbody>\n",
       "</table>\n",
       "</div>"
      ],
      "text/plain": [
       "    RANK  Country  Happiness Score  Healthy Life Expectancy  \\\n",
       "89   124  Namibia            4.459                    0.354   \n",
       "90   129    Egypt            4.288                    0.548   \n",
       "29    41   Cyprus            6.221                    0.819   \n",
       "7      9   Israel            7.364                    0.818   \n",
       "67    96  Algeria            5.122                    0.643   \n",
       "\n",
       "    Sunshine Hrs per Year  Average Income ($)  Alcohol Consumption (L/year)  \n",
       "89                3737.50              4023.0                          3.15  \n",
       "90                3710.68              1847.0                          0.14  \n",
       "29                3314.10             15663.0                         10.80  \n",
       "7                 3311.00             13271.0                          4.38  \n",
       "67                3266.50              2996.0                          0.63  "
      ]
     },
     "execution_count": 26,
     "metadata": {},
     "output_type": "execute_result"
    }
   ],
   "source": [
    "annual_sunshine = happy_df.sort_values('Sunshine Hrs per Year', ascending = False)\n",
    "annual_sunshine.head()"
   ]
  },
  {
   "cell_type": "markdown",
   "metadata": {},
   "source": [
    "## Happiness by life expectancy\n",
    "#### Q: Are countries with longer life expectancies happier?"
   ]
  },
  {
   "cell_type": "code",
   "execution_count": 27,
   "metadata": {},
   "outputs": [
    {
     "name": "stdout",
     "output_type": "stream",
     "text": [
      "The correlation between Happiness and Healthy Life Expectancy is 0.78.\n"
     ]
    },
    {
     "data": {
      "image/png": "[encoded data removed]",
      "text/plain": [
       "<Figure size 432x288 with 1 Axes>"
      ]
     },
     "metadata": {},
     "output_type": "display_data"
    }
   ],
   "source": [
    "linear_regression(happy_df['Happiness Score'], happy_df['Healthy Life Expectancy'], 'Happiness Score', 'Healthy Life Expectancy', 3, 0.8)"
   ]
  },
  {
   "cell_type": "code",
   "execution_count": 28,
   "metadata": {},
   "outputs": [
    {
     "data": {
      "text/html": [
       "<div>\n",
       "<style scoped>\n",
       "    .dataframe tbody tr th:only-of-type {\n",
       "        vertical-align: middle;\n",
       "    }\n",
       "\n",
       "    .dataframe tbody tr th {\n",
       "        vertical-align: top;\n",
       "    }\n",
       "\n",
       "    .dataframe thead th {\n",
       "        text-align: right;\n",
       "    }\n",
       "</style>\n",
       "<table border=\"1\" class=\"dataframe\">\n",
       "  <thead>\n",
       "    <tr style=\"text-align: right;\">\n",
       "      <th></th>\n",
       "      <th>RANK</th>\n",
       "      <th>Country</th>\n",
       "      <th>Happiness Score</th>\n",
       "      <th>Healthy Life Expectancy</th>\n",
       "      <th>Sunshine Hrs per Year</th>\n",
       "      <th>Average Income ($)</th>\n",
       "      <th>Alcohol Consumption (L/year)</th>\n",
       "    </tr>\n",
       "  </thead>\n",
       "  <tbody>\n",
       "    <tr>\n",
       "      <th>40</th>\n",
       "      <td>54</td>\n",
       "      <td>Japan</td>\n",
       "      <td>6.039</td>\n",
       "      <td>0.866</td>\n",
       "      <td>1837.12</td>\n",
       "      <td>17095.0</td>\n",
       "      <td>10.09</td>\n",
       "    </tr>\n",
       "    <tr>\n",
       "      <th>45</th>\n",
       "      <td>59</td>\n",
       "      <td>South Korea</td>\n",
       "      <td>5.935</td>\n",
       "      <td>0.841</td>\n",
       "      <td>2196.65</td>\n",
       "      <td>14316.0</td>\n",
       "      <td>8.45</td>\n",
       "    </tr>\n",
       "    <tr>\n",
       "      <th>3</th>\n",
       "      <td>4</td>\n",
       "      <td>Switzerland</td>\n",
       "      <td>7.512</td>\n",
       "      <td>0.822</td>\n",
       "      <td>1932.75</td>\n",
       "      <td>25787.0</td>\n",
       "      <td>11.23</td>\n",
       "    </tr>\n",
       "    <tr>\n",
       "      <th>29</th>\n",
       "      <td>41</td>\n",
       "      <td>Cyprus</td>\n",
       "      <td>6.221</td>\n",
       "      <td>0.819</td>\n",
       "      <td>3314.10</td>\n",
       "      <td>15663.0</td>\n",
       "      <td>10.80</td>\n",
       "    </tr>\n",
       "    <tr>\n",
       "      <th>7</th>\n",
       "      <td>9</td>\n",
       "      <td>Israel</td>\n",
       "      <td>7.364</td>\n",
       "      <td>0.818</td>\n",
       "      <td>3311.00</td>\n",
       "      <td>13271.0</td>\n",
       "      <td>4.38</td>\n",
       "    </tr>\n",
       "  </tbody>\n",
       "</table>\n",
       "</div>"
      ],
      "text/plain": [
       "    RANK      Country  Happiness Score  Healthy Life Expectancy  \\\n",
       "40    54        Japan            6.039                    0.866   \n",
       "45    59  South Korea            5.935                    0.841   \n",
       "3      4  Switzerland            7.512                    0.822   \n",
       "29    41       Cyprus            6.221                    0.819   \n",
       "7      9       Israel            7.364                    0.818   \n",
       "\n",
       "    Sunshine Hrs per Year  Average Income ($)  Alcohol Consumption (L/year)  \n",
       "40                1837.12             17095.0                         10.09  \n",
       "45                2196.65             14316.0                          8.45  \n",
       "3                 1932.75             25787.0                         11.23  \n",
       "29                3314.10             15663.0                         10.80  \n",
       "7                 3311.00             13271.0                          4.38  "
      ]
     },
     "execution_count": 28,
     "metadata": {},
     "output_type": "execute_result"
    }
   ],
   "source": [
    "life_expectancy = happy_df.sort_values('Healthy Life Expectancy', ascending = False)\n",
    "life_expectancy.head()"
   ]
  },
  {
   "cell_type": "markdown",
   "metadata": {},
   "source": [
    "## Happiness by alcohol consumption\n",
    "#### Q: Does Alcohol Influence happiness?"
   ]
  },
  {
   "cell_type": "code",
   "execution_count": 30,
   "metadata": {},
   "outputs": [
    {
     "name": "stdout",
     "output_type": "stream",
     "text": [
      "The correlation between Happiness and Alcohol Consumption (L/year) is 0.56.\n"
     ]
    },
    {
     "data": {
      "image/png": "[encoded data removed]",
      "text/plain": [
       "<Figure size 432x288 with 1 Axes>"
      ]
     },
     "metadata": {},
     "output_type": "display_data"
    }
   ],
   "source": [
    "linear_regression(happy_df['Happiness Score'], happy_df['Alcohol Consumption (L/year)'], 'Happiness Score', 'Alcohol Consumption (L/year)', 5.5, 1.5)"
   ]
  },
  {
   "cell_type": "code",
   "execution_count": 31,
   "metadata": {},
   "outputs": [
    {
     "data": {
      "text/html": [
       "<div>\n",
       "<style scoped>\n",
       "    .dataframe tbody tr th:only-of-type {\n",
       "        vertical-align: middle;\n",
       "    }\n",
       "\n",
       "    .dataframe tbody tr th {\n",
       "        vertical-align: top;\n",
       "    }\n",
       "\n",
       "    .dataframe thead th {\n",
       "        text-align: right;\n",
       "    }\n",
       "</style>\n",
       "<table border=\"1\" class=\"dataframe\">\n",
       "  <thead>\n",
       "    <tr style=\"text-align: right;\">\n",
       "      <th></th>\n",
       "      <th>RANK</th>\n",
       "      <th>Country</th>\n",
       "      <th>Happiness Score</th>\n",
       "      <th>Healthy Life Expectancy</th>\n",
       "      <th>Sunshine Hrs per Year</th>\n",
       "      <th>Average Income ($)</th>\n",
       "      <th>Alcohol Consumption (L/year)</th>\n",
       "    </tr>\n",
       "  </thead>\n",
       "  <tbody>\n",
       "    <tr>\n",
       "      <th>30</th>\n",
       "      <td>42</td>\n",
       "      <td>Latvia</td>\n",
       "      <td>6.180</td>\n",
       "      <td>0.637</td>\n",
       "      <td>1754.0</td>\n",
       "      <td>9727.0</td>\n",
       "      <td>13.19</td>\n",
       "    </tr>\n",
       "    <tr>\n",
       "      <th>48</th>\n",
       "      <td>62</td>\n",
       "      <td>Moldova</td>\n",
       "      <td>5.857</td>\n",
       "      <td>0.597</td>\n",
       "      <td>2126.0</td>\n",
       "      <td>3590.0</td>\n",
       "      <td>12.85</td>\n",
       "    </tr>\n",
       "    <tr>\n",
       "      <th>11</th>\n",
       "      <td>14</td>\n",
       "      <td>Germany</td>\n",
       "      <td>7.034</td>\n",
       "      <td>0.776</td>\n",
       "      <td>1644.0</td>\n",
       "      <td>19730.0</td>\n",
       "      <td>12.79</td>\n",
       "    </tr>\n",
       "    <tr>\n",
       "      <th>23</th>\n",
       "      <td>34</td>\n",
       "      <td>Lithuania</td>\n",
       "      <td>6.446</td>\n",
       "      <td>0.659</td>\n",
       "      <td>1691.0</td>\n",
       "      <td>10479.0</td>\n",
       "      <td>12.78</td>\n",
       "    </tr>\n",
       "    <tr>\n",
       "      <th>10</th>\n",
       "      <td>13</td>\n",
       "      <td>Ireland</td>\n",
       "      <td>7.041</td>\n",
       "      <td>0.779</td>\n",
       "      <td>1453.0</td>\n",
       "      <td>17938.0</td>\n",
       "      <td>12.75</td>\n",
       "    </tr>\n",
       "  </tbody>\n",
       "</table>\n",
       "</div>"
      ],
      "text/plain": [
       "    RANK    Country  Happiness Score  Healthy Life Expectancy  \\\n",
       "30    42     Latvia            6.180                    0.637   \n",
       "48    62    Moldova            5.857                    0.597   \n",
       "11    14    Germany            7.034                    0.776   \n",
       "23    34  Lithuania            6.446                    0.659   \n",
       "10    13    Ireland            7.041                    0.779   \n",
       "\n",
       "    Sunshine Hrs per Year  Average Income ($)  Alcohol Consumption (L/year)  \n",
       "30                 1754.0              9727.0                         13.19  \n",
       "48                 2126.0              3590.0                         12.85  \n",
       "11                 1644.0             19730.0                         12.79  \n",
       "23                 1691.0             10479.0                         12.78  \n",
       "10                 1453.0             17938.0                         12.75  "
      ]
     },
     "execution_count": 31,
     "metadata": {},
     "output_type": "execute_result"
    }
   ],
   "source": [
    "alcohol_consumption = happy_df.sort_values('Alcohol Consumption (L/year)', ascending = False)\n",
    "alcohol_consumption.head()"
   ]
  }
 ],
 "metadata": {
  "kernelspec": {
   "display_name": "Python 3",
   "language": "python",
   "name": "python3"
  },
  "language_info": {
   "codemirror_mode": {
    "name": "ipython",
    "version": 3
   },
   "file_extension": ".py",
   "mimetype": "text/x-python",
   "name": "python",
   "nbconvert_exporter": "python",
   "pygments_lexer": "ipython3",
   "version": "3.6.10"
  }
 },
 "nbformat": 4,
 "nbformat_minor": 5
}
