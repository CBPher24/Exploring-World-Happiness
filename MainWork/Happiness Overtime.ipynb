{
 "cells": [
  {
   "cell_type": "code",
   "execution_count": null,
   "metadata": {},
   "outputs": [],
   "source": [
    "# Import dependencies\n",
    "import matplotlib.pyplot as plt\n",
    "import pandas as pd\n",
    "import scipy.stats as st\n",
    "import numpy as np\n",
    "import pprint\n",
    "from scipy.stats import linregress"
   ]
  },
  {
   "cell_type": "code",
   "execution_count": null,
   "metadata": {},
   "outputs": [],
   "source": [
    "happy_years_csv = \"Output/multiple_year_data.csv\""
   ]
  },
  {
   "cell_type": "code",
   "execution_count": null,
   "metadata": {},
   "outputs": [],
   "source": [
    "happy_years_df = pd.read_csv(happy_years_csv)\n",
    "happy_years_df"
   ]
  },
  {
   "cell_type": "code",
   "execution_count": null,
   "metadata": {},
   "outputs": [],
   "source": [
    "# Did covid impact happiness?\n",
    "avg_happy_2015 = happy_years_df['2015 Happiness Score'].mean()\n",
    "avg_happy_2016 = happy_years_df['2016 Happiness Score'].mean()\n",
    "avg_happy_2017 = happy_years_df['2017 Happiness Score'].mean()\n",
    "avg_happy_2018 = happy_years_df['2018 Happiness Score'].mean()\n",
    "avg_happy_2019 = happy_years_df['2019 Happiness Score'].mean()\n",
    "avg_happy_2020 = happy_years_df['2020 Happiness Score'].mean()\n",
    "avg_happy_2021 = happy_years_df['2021 Happiness Score'].mean()\n",
    "avg_happy_2022 = happy_years_df['2022 Happiness Score'].mean()"
   ]
  },
  {
   "cell_type": "code",
   "execution_count": null,
   "metadata": {
    "scrolled": false
   },
   "outputs": [],
   "source": [
    "avg_happiness_df = pd.DataFrame({'Year': [2015,2016,2017,2018,2019,2020,2021,2022], \n",
    "                                 'Avg. Happiness': [avg_happy_2015,avg_happy_2016,avg_happy_2017,avg_happy_2018,\n",
    "                                                    avg_happy_2019,avg_happy_2020,avg_happy_2021,avg_happy_2022]})\n",
    "avg_happiness_df"
   ]
  },
  {
   "cell_type": "code",
   "execution_count": null,
   "metadata": {},
   "outputs": [],
   "source": [
    "x_axis = avg_happiness_df['Year']\n",
    "y_axis = avg_happiness_df['Avg. Happiness']\n",
    "\n",
    "plt.plot(x_axis, y_axis, marker = 'o', color = 'navy', linewidth = 1.5)\n",
    "\n",
    "plt.rcParams[\"font.family\"] = \"Times New Roman\"\n",
    "plt.xlabel('Year')\n",
    "plt.ylabel('Avg. Happiness')\n",
    "plt.title('Average Happiness (2015-2022)', fontsize = 14)\n",
    "\n",
    "plt.tight_layout()\n",
    "plt.savefig('Images/Average Happiness (2015-2022).png')\n",
    "plt.show()"
   ]
  },
  {
   "cell_type": "code",
   "execution_count": null,
   "metadata": {},
   "outputs": [],
   "source": [
    "# Top 5 countries 2022- trend of happiness over time\n",
    "happiest_countries_2022 = happy_years_df.sort_values('2022 Happiness Score', ascending = False)\n",
    "happiest_countries_top5_2022 = happiest_countries_2022.head()\n",
    "happiest_countries_top5_2022"
   ]
  },
  {
   "cell_type": "code",
   "execution_count": null,
   "metadata": {},
   "outputs": [],
   "source": [
    "x_axis = happiest_countries_top5_2022['Country']\n",
    "# y1 = happiest_countries_top5_2022.loc[happiest_countries_top5_2022['Country'][0],:]\n",
    "y1=happiest_countries_top5_2022.iloc[0]\n",
    "# y1 = happiest_countries_top5_2022['2016 Happiness Score']\n",
    "# y1 = happiest_countries_top5_2022['2017 Happiness Score']\n",
    "# y1 = happiest_countries_top5_2022['2018 Happiness Score']\n",
    "# y1 = happiest_countries_top5_2022['2019 Happiness Score']\n",
    "# y1 = happiest_countries_top5_2022['2020 Happiness Score']\n",
    "# y1 = happiest_countries_top5_2022['2021 Happiness Score']\n",
    "# y1 = happiest_countries_top5_2022['2022 Happiness Score']\n",
    "y1"
   ]
  },
  {
   "cell_type": "code",
   "execution_count": null,
   "metadata": {},
   "outputs": [],
   "source": [
    "# Input for users to input countries to compare- find a way to input country name into the x axis and the chart change\n",
    "# def buildTrace(country):\n",
    "   \n",
    "#    return trace\n",
    "\n",
    "# display default graph with trace1\n",
    "# compare = input('would you like to compare an individual country to this graph (y/n)? ')\n",
    "# while compare = 'y':\n",
    "#    country = input('what country do you want to compare? ')\n",
    "#    trace2 = buildTrace(country)\n",
    "#    display graph with both trace1 and trace2\n",
    "\n",
    "#    compare = input('would you like to compare another country (y/n)? ')\n",
    "# # Print a line plot for the desired countries"
   ]
  },
  {
   "cell_type": "code",
   "execution_count": null,
   "metadata": {},
   "outputs": [],
   "source": [
    "input_country1=input(f'What country would you like to see the score for over the years?')\n",
    "input_country2=input(f'Name a second country you would like to see the score for over the years for?')\n",
    "chosen_df1=happy_years_df.loc[happy_years_df[\"Country\"]==input_country1, [\"2022 Happiness Score\",\"2021 Happiness Score\",\"2020 Happiness Score\",\"2019 Happiness Score\",\"2018 Happiness Score\",\"2017 Happiness Score\",\"2016 Happiness Score\",\"2015 Happiness Score\"]]\n",
    "chosen_df2=happy_years_df.loc[happy_years_df[\"Country\"]==input_country2, [\"2022 Happiness Score\",\"2021 Happiness Score\",\"2020 Happiness Score\",\"2019 Happiness Score\",\"2018 Happiness Score\",\"2017 Happiness Score\",\"2016 Happiness Score\",\"2015 Happiness Score\"]]\n",
    "chosen_df.values.flatten().tolist()\n"
   ]
  },
  {
   "cell_type": "code",
   "execution_count": 52,
   "metadata": {},
   "outputs": [
    {
     "data": {
      "image/png": "[encoded data removed]",
      "text/plain": [
       "<Figure size 432x288 with 1 Axes>"
      ]
     },
     "metadata": {
      "needs_background": "light"
     },
     "output_type": "display_data"
    }
   ],
   "source": [
    "x_axis = avg_happiness_df['Year']\n",
    "y_axis = avg_happiness_df['Avg. Happiness']\n",
    "\n",
    "plt.plot(x_axis, y_axis, marker = 'o', color = 'navy', linewidth = 1.5, label=\"Average Happiness Over Time\")\n",
    "plt.plot(x_axis,chosen_df1.values.flatten().tolist(), marker='o',color='red',linewidth=1.5, label=input_country1)\n",
    "plt.plot(x_axis,chosen_df2.values.flatten().tolist(), marker='o',color='#912CEE',linewidth=1.5, label=input_country2)\n",
    "\n",
    "legend = plt.legend(loc = 'center right', fontsize = 10, bbox_to_anchor=(.5, .70))\n",
    "\n",
    "\n",
    "plt.rcParams[\"font.family\"] = \"Times New Roman\"\n",
    "plt.xlabel('Year')\n",
    "plt.ylabel('Avg. Happiness')\n",
    "plt.title('Average Happiness (2015-2022)', fontsize = 14)\n",
    "\n",
    "plt.tight_layout()\n",
    "plt.savefig('Images/Average Happiness (2015-2022).png')\n",
    "plt.show()"
   ]
  },
  {
   "cell_type": "code",
   "execution_count": null,
   "metadata": {},
   "outputs": [],
   "source": [
    "pd.set_option(\"display.max_rows\",None)\n",
    "happy_years_df"
   ]
  },
  {
   "cell_type": "code",
   "execution_count": null,
   "metadata": {},
   "outputs": [],
   "source": []
  }
 ],
 "metadata": {
  "kernelspec": {
   "display_name": "Python 3 (ipykernel)",
   "language": "python",
   "name": "python3"
  },
  "language_info": {
   "codemirror_mode": {
    "name": "ipython",
    "version": 3
   },
   "file_extension": ".py",
   "mimetype": "text/x-python",
   "name": "python",
   "nbconvert_exporter": "python",
   "pygments_lexer": "ipython3",
   "version": "3.9.7"
  }
 },
 "nbformat": 4,
 "nbformat_minor": 4
}
