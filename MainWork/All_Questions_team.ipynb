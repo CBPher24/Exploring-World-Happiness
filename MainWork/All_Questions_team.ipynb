{
 "cells": [
  {
   "cell_type": "code",
   "execution_count": null,
   "id": "30682a6c",
   "metadata": {},
   "outputs": [],
   "source": [
    "# blanket import modules\n",
    "import matplotlib.pyplot as plt\n",
    "import pandas as pd\n",
    "import scipy.stats as st\n",
    "import numpy as np\n",
    "import pprint"
   ]
  },
  {
   "cell_type": "code",
   "execution_count": 1,
   "id": "bb0342dc",
   "metadata": {},
   "outputs": [],
   "source": [
    "# setting up paths for data\n",
    "happy_cs = \"../Output/happy_comb-data.csv\""
   ]
  },
  {
   "cell_type": "code",
   "execution_count": null,
   "id": "31506831",
   "metadata": {},
   "outputs": [],
   "source": []
  }
 ],
 "metadata": {
  "kernelspec": {
   "display_name": "Python 3 (ipykernel)",
   "language": "python",
   "name": "python3"
  },
  "language_info": {
   "codemirror_mode": {
    "name": "ipython",
    "version": 3
   },
   "file_extension": ".py",
   "mimetype": "text/x-python",
   "name": "python",
   "nbconvert_exporter": "python",
   "pygments_lexer": "ipython3",
   "version": "3.9.7"
  }
 },
 "nbformat": 4,
 "nbformat_minor": 5
}
