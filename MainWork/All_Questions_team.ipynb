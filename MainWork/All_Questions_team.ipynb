{
 "cells": [
  {
   "cell_type": "code",
   "execution_count": null,
   "id": "d528b5c1",
   "metadata": {},
   "outputs": [],
   "source": [
    "# blanket import modules\n",
    "import matplotlib.pyplot as plt\n",
    "import pandas as pd\n",
    "import scipy.stats as st\n",
    "import numpy as np\n",
    "import pprint"
   ]
  },
  {
   "cell_type": "code",
   "execution_count": 1,
   "id": "0f434e42",
   "metadata": {},
   "outputs": [],
   "source": [
    "# setting up paths for data\n",
    "happy_cs = \"../Output/happy_comb-data.csv\""
   ]
  },
  {
   "cell_type": "code",
   "execution_count": null,
   "id": "79f48e72",
   "metadata": {},
   "outputs": [],
   "source": [
    "# Happiness by median income\n",
    "# Q: Are counties with higher median incomes happier?\n"
   ]
  },
  {
   "cell_type": "code",
   "execution_count": null,
   "id": "a4aa4f47",
   "metadata": {},
   "outputs": [],
   "source": [
    "# Happiness by annual sunshine  - using historical weather API \n",
    "# Q: Does the weather of a country (av sunshine) influence happiness?\n"
   ]
  },
  {
   "cell_type": "code",
   "execution_count": null,
   "id": "85a4de1d",
   "metadata": {},
   "outputs": [],
   "source": [
    "# Happiness by life expectancy\n",
    "# Q: Are countries with longer life expectancies happier?\n"
   ]
  },
  {
   "cell_type": "code",
   "execution_count": null,
   "id": "adc6888b",
   "metadata": {},
   "outputs": [],
   "source": [
    "# Happiness by alcohol consumption\n",
    "# Q: Does Alcohol Influence happiness?\n"
   ]
  }
 ],
 "metadata": {
  "kernelspec": {
   "display_name": "Python 3 (ipykernel)",
   "language": "python",
   "name": "python3"
  },
  "language_info": {
   "codemirror_mode": {
    "name": "ipython",
    "version": 3
   },
   "file_extension": ".py",
   "mimetype": "text/x-python",
   "name": "python",
   "nbconvert_exporter": "python",
   "pygments_lexer": "ipython3",
   "version": "3.9.7"
  }
 },
 "nbformat": 4,
 "nbformat_minor": 5
}
