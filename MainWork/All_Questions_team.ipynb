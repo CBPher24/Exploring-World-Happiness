{
 "cells": [
  {
   "cell_type": "code",
   "execution_count": 1,
   "metadata": {},
   "outputs": [],
   "source": [
    "# blanket import modules\n",
    "import matplotlib.pyplot as plt\n",
    "import pandas as pd\n",
    "import scipy.stats as st\n",
    "import numpy as np\n",
    "import pprint\n",
    "from scipy.stats import linregress"
   ]
  },
  {
   "cell_type": "code",
   "execution_count": 2,
   "metadata": {},
   "outputs": [],
   "source": [
    "# setting up paths for data\n",
    "happy_cs = \"Output/happy_comb-data.csv\""
   ]
  },
  {
   "cell_type": "code",
   "execution_count": 3,
   "metadata": {},
   "outputs": [
    {
     "data": {
      "text/html": [
       "<div>\n",
       "<style scoped>\n",
       "    .dataframe tbody tr th:only-of-type {\n",
       "        vertical-align: middle;\n",
       "    }\n",
       "\n",
       "    .dataframe tbody tr th {\n",
       "        vertical-align: top;\n",
       "    }\n",
       "\n",
       "    .dataframe thead th {\n",
       "        text-align: right;\n",
       "    }\n",
       "</style>\n",
       "<table border=\"1\" class=\"dataframe\">\n",
       "  <thead>\n",
       "    <tr style=\"text-align: right;\">\n",
       "      <th></th>\n",
       "      <th>RANK</th>\n",
       "      <th>Country</th>\n",
       "      <th>Happiness Score</th>\n",
       "      <th>Healthy Life Expectancy</th>\n",
       "      <th>Sunshine Hrs per Year</th>\n",
       "      <th>Average Income ($)</th>\n",
       "      <th>Alcohol Consumption (L/year)</th>\n",
       "    </tr>\n",
       "  </thead>\n",
       "  <tbody>\n",
       "    <tr>\n",
       "      <th>0</th>\n",
       "      <td>1</td>\n",
       "      <td>Finland</td>\n",
       "      <td>7.821</td>\n",
       "      <td>0.775</td>\n",
       "      <td>1858.00</td>\n",
       "      <td>18742.0</td>\n",
       "      <td>10.65</td>\n",
       "    </tr>\n",
       "    <tr>\n",
       "      <th>1</th>\n",
       "      <td>2</td>\n",
       "      <td>Denmark</td>\n",
       "      <td>7.636</td>\n",
       "      <td>0.777</td>\n",
       "      <td>1932.00</td>\n",
       "      <td>20304.0</td>\n",
       "      <td>10.13</td>\n",
       "    </tr>\n",
       "    <tr>\n",
       "      <th>2</th>\n",
       "      <td>3</td>\n",
       "      <td>Iceland</td>\n",
       "      <td>7.557</td>\n",
       "      <td>0.803</td>\n",
       "      <td>1326.00</td>\n",
       "      <td>19300.0</td>\n",
       "      <td>9.21</td>\n",
       "    </tr>\n",
       "    <tr>\n",
       "      <th>3</th>\n",
       "      <td>4</td>\n",
       "      <td>Switzerland</td>\n",
       "      <td>7.512</td>\n",
       "      <td>0.822</td>\n",
       "      <td>1932.75</td>\n",
       "      <td>25787.0</td>\n",
       "      <td>11.23</td>\n",
       "    </tr>\n",
       "    <tr>\n",
       "      <th>4</th>\n",
       "      <td>5</td>\n",
       "      <td>Netherlands</td>\n",
       "      <td>7.415</td>\n",
       "      <td>0.787</td>\n",
       "      <td>1662.00</td>\n",
       "      <td>19690.0</td>\n",
       "      <td>9.67</td>\n",
       "    </tr>\n",
       "    <tr>\n",
       "      <th>...</th>\n",
       "      <td>...</td>\n",
       "      <td>...</td>\n",
       "      <td>...</td>\n",
       "      <td>...</td>\n",
       "      <td>...</td>\n",
       "      <td>...</td>\n",
       "      <td>...</td>\n",
       "    </tr>\n",
       "    <tr>\n",
       "      <th>93</th>\n",
       "      <td>136</td>\n",
       "      <td>India</td>\n",
       "      <td>3.777</td>\n",
       "      <td>0.471</td>\n",
       "      <td>2517.02</td>\n",
       "      <td>1314.0</td>\n",
       "      <td>5.61</td>\n",
       "    </tr>\n",
       "    <tr>\n",
       "      <th>94</th>\n",
       "      <td>137</td>\n",
       "      <td>Zambia</td>\n",
       "      <td>3.760</td>\n",
       "      <td>0.306</td>\n",
       "      <td>2965.47</td>\n",
       "      <td>1045.0</td>\n",
       "      <td>4.46</td>\n",
       "    </tr>\n",
       "    <tr>\n",
       "      <th>95</th>\n",
       "      <td>138</td>\n",
       "      <td>Malawi</td>\n",
       "      <td>3.750</td>\n",
       "      <td>0.388</td>\n",
       "      <td>2795.87</td>\n",
       "      <td>733.0</td>\n",
       "      <td>4.08</td>\n",
       "    </tr>\n",
       "    <tr>\n",
       "      <th>96</th>\n",
       "      <td>139</td>\n",
       "      <td>Tanzania</td>\n",
       "      <td>3.702</td>\n",
       "      <td>0.425</td>\n",
       "      <td>3032.85</td>\n",
       "      <td>992.0</td>\n",
       "      <td>12.04</td>\n",
       "    </tr>\n",
       "    <tr>\n",
       "      <th>97</th>\n",
       "      <td>144</td>\n",
       "      <td>Zimbabwe</td>\n",
       "      <td>2.995</td>\n",
       "      <td>0.270</td>\n",
       "      <td>3065.40</td>\n",
       "      <td>1429.0</td>\n",
       "      <td>4.52</td>\n",
       "    </tr>\n",
       "  </tbody>\n",
       "</table>\n",
       "<p>98 rows × 7 columns</p>\n",
       "</div>"
      ],
      "text/plain": [
       "    RANK      Country  Happiness Score  Healthy Life Expectancy  \\\n",
       "0      1      Finland            7.821                    0.775   \n",
       "1      2      Denmark            7.636                    0.777   \n",
       "2      3      Iceland            7.557                    0.803   \n",
       "3      4  Switzerland            7.512                    0.822   \n",
       "4      5  Netherlands            7.415                    0.787   \n",
       "..   ...          ...              ...                      ...   \n",
       "93   136        India            3.777                    0.471   \n",
       "94   137       Zambia            3.760                    0.306   \n",
       "95   138       Malawi            3.750                    0.388   \n",
       "96   139     Tanzania            3.702                    0.425   \n",
       "97   144     Zimbabwe            2.995                    0.270   \n",
       "\n",
       "    Sunshine Hrs per Year  Average Income ($)  Alcohol Consumption (L/year)  \n",
       "0                 1858.00             18742.0                         10.65  \n",
       "1                 1932.00             20304.0                         10.13  \n",
       "2                 1326.00             19300.0                          9.21  \n",
       "3                 1932.75             25787.0                         11.23  \n",
       "4                 1662.00             19690.0                          9.67  \n",
       "..                    ...                 ...                           ...  \n",
       "93                2517.02              1314.0                          5.61  \n",
       "94                2965.47              1045.0                          4.46  \n",
       "95                2795.87               733.0                          4.08  \n",
       "96                3032.85               992.0                         12.04  \n",
       "97                3065.40              1429.0                          4.52  \n",
       "\n",
       "[98 rows x 7 columns]"
      ]
     },
     "execution_count": 3,
     "metadata": {},
     "output_type": "execute_result"
    }
   ],
   "source": [
    "happy_df = pd.read_csv(happy_cs)\n",
    "happy_df"
   ]
  },
  {
   "cell_type": "code",
   "execution_count": 4,
   "metadata": {},
   "outputs": [],
   "source": [
    "# Linear Regression Function\n",
    "plt.style.use(\"ggplot\")\n",
    "\n",
    "def linear_regression(x_axis_lreg, y_axis_lreg, x_label, y_label, line_eq_x, line_eq_y):\n",
    "    \n",
    "    (slope, intercept, rvalue, pvalue, stderr) = linregress(x_axis_lreg, y_axis_lreg)\n",
    "    regress_values = x_axis_lreg * slope + intercept\n",
    "    line_eq = (f'y = {(round(slope,2))}x  + {(round(intercept,2))}')\n",
    "\n",
    "    plt.scatter(x_axis_lreg, y_axis_lreg, marker = 'o', facecolor = 'cornflowerblue', edgecolor = 'black')\n",
    "    plt.xlabel(x_label)\n",
    "    plt.ylabel(y_label)\n",
    "    plt.title(f'Country Happiness Score vs. {y_label}', fontsize = 12)\n",
    "    plt.plot(x_axis_lreg, regress_values, 'r')\n",
    "    plt.annotate(line_eq, (line_eq_x, line_eq_y), fontsize = 12, color = 'red', size = 14)\n",
    "    plt.show\n",
    "    \n",
    "    correlation = st.pearsonr(x_axis_lreg, y_axis_lreg)\n",
    "    print(f'The correlation between Happiness and {y_label} is {(round(correlation[0],2))}.')\n",
    "    \n",
    "#     print(f'The r-square value is: {round(rvalue**2,2)}.')"
   ]
  },
  {
   "cell_type": "markdown",
   "metadata": {},
   "source": [
    "## Happiness by average income\n",
    "#### Q: Are countries with higher average incomes happier?"
   ]
  },
  {
   "cell_type": "code",
   "execution_count": 5,
   "metadata": {},
   "outputs": [
    {
     "name": "stdout",
     "output_type": "stream",
     "text": [
      "The correlation between Happiness and Average Income is 0.84.\n"
     ]
    },
    {
     "data": {
      "image/png": "[encoded data removed]",
      "text/plain": [
       "<Figure size 432x288 with 1 Axes>"
      ]
     },
     "metadata": {},
     "output_type": "display_data"
    }
   ],
   "source": [
    "linear_regression(happy_df['Happiness Score'], happy_df['Average Income ($)'], 'Happiness Score', 'Average Income', 5, -5000)"
   ]
  },
  {
   "cell_type": "code",
   "execution_count": 6,
   "metadata": {
    "scrolled": true
   },
   "outputs": [
    {
     "data": {
      "text/html": [
       "<div>\n",
       "<style scoped>\n",
       "    .dataframe tbody tr th:only-of-type {\n",
       "        vertical-align: middle;\n",
       "    }\n",
       "\n",
       "    .dataframe tbody tr th {\n",
       "        vertical-align: top;\n",
       "    }\n",
       "\n",
       "    .dataframe thead th {\n",
       "        text-align: right;\n",
       "    }\n",
       "</style>\n",
       "<table border=\"1\" class=\"dataframe\">\n",
       "  <thead>\n",
       "    <tr style=\"text-align: right;\">\n",
       "      <th></th>\n",
       "      <th>RANK</th>\n",
       "      <th>Country</th>\n",
       "      <th>Happiness Score</th>\n",
       "      <th>Healthy Life Expectancy</th>\n",
       "      <th>Sunshine Hrs per Year</th>\n",
       "      <th>Average Income ($)</th>\n",
       "      <th>Alcohol Consumption (L/year)</th>\n",
       "    </tr>\n",
       "  </thead>\n",
       "  <tbody>\n",
       "    <tr>\n",
       "      <th>3</th>\n",
       "      <td>4</td>\n",
       "      <td>Switzerland</td>\n",
       "      <td>7.512</td>\n",
       "      <td>0.822</td>\n",
       "      <td>1932.75</td>\n",
       "      <td>25787.0</td>\n",
       "      <td>11.23</td>\n",
       "    </tr>\n",
       "    <tr>\n",
       "      <th>13</th>\n",
       "      <td>16</td>\n",
       "      <td>United States of America</td>\n",
       "      <td>6.977</td>\n",
       "      <td>0.628</td>\n",
       "      <td>2827.62</td>\n",
       "      <td>25332.0</td>\n",
       "      <td>9.97</td>\n",
       "    </tr>\n",
       "    <tr>\n",
       "      <th>6</th>\n",
       "      <td>8</td>\n",
       "      <td>Norway</td>\n",
       "      <td>7.365</td>\n",
       "      <td>0.786</td>\n",
       "      <td>1373.33</td>\n",
       "      <td>25272.0</td>\n",
       "      <td>7.14</td>\n",
       "    </tr>\n",
       "    <tr>\n",
       "      <th>12</th>\n",
       "      <td>15</td>\n",
       "      <td>Canada</td>\n",
       "      <td>7.025</td>\n",
       "      <td>0.783</td>\n",
       "      <td>2028.04</td>\n",
       "      <td>22042.0</td>\n",
       "      <td>8.81</td>\n",
       "    </tr>\n",
       "    <tr>\n",
       "      <th>9</th>\n",
       "      <td>12</td>\n",
       "      <td>Australia</td>\n",
       "      <td>7.162</td>\n",
       "      <td>0.772</td>\n",
       "      <td>2843.57</td>\n",
       "      <td>21329.0</td>\n",
       "      <td>10.36</td>\n",
       "    </tr>\n",
       "  </tbody>\n",
       "</table>\n",
       "</div>"
      ],
      "text/plain": [
       "    RANK                   Country  Happiness Score  Healthy Life Expectancy  \\\n",
       "3      4               Switzerland            7.512                    0.822   \n",
       "13    16  United States of America            6.977                    0.628   \n",
       "6      8                    Norway            7.365                    0.786   \n",
       "12    15                    Canada            7.025                    0.783   \n",
       "9     12                 Australia            7.162                    0.772   \n",
       "\n",
       "    Sunshine Hrs per Year  Average Income ($)  Alcohol Consumption (L/year)  \n",
       "3                 1932.75             25787.0                         11.23  \n",
       "13                2827.62             25332.0                          9.97  \n",
       "6                 1373.33             25272.0                          7.14  \n",
       "12                2028.04             22042.0                          8.81  \n",
       "9                 2843.57             21329.0                         10.36  "
      ]
     },
     "execution_count": 6,
     "metadata": {},
     "output_type": "execute_result"
    }
   ],
   "source": [
    "avg_income = happy_df.sort_values('Average Income ($)', ascending = False)\n",
    "avg_income.head()"
   ]
  },
  {
   "cell_type": "code",
   "execution_count": 7,
   "metadata": {},
   "outputs": [
    {
     "data": {
      "text/html": [
       "<div>\n",
       "<style scoped>\n",
       "    .dataframe tbody tr th:only-of-type {\n",
       "        vertical-align: middle;\n",
       "    }\n",
       "\n",
       "    .dataframe tbody tr th {\n",
       "        vertical-align: top;\n",
       "    }\n",
       "\n",
       "    .dataframe thead th {\n",
       "        text-align: right;\n",
       "    }\n",
       "</style>\n",
       "<table border=\"1\" class=\"dataframe\">\n",
       "  <thead>\n",
       "    <tr style=\"text-align: right;\">\n",
       "      <th></th>\n",
       "      <th>Country</th>\n",
       "      <th>Happiness Score</th>\n",
       "    </tr>\n",
       "  </thead>\n",
       "  <tbody>\n",
       "    <tr>\n",
       "      <th>0</th>\n",
       "      <td>Finland</td>\n",
       "      <td>7.821</td>\n",
       "    </tr>\n",
       "  </tbody>\n",
       "</table>\n",
       "</div>"
      ],
      "text/plain": [
       "   Country  Happiness Score\n",
       "0  Finland            7.821"
      ]
     },
     "execution_count": 7,
     "metadata": {},
     "output_type": "execute_result"
    }
   ],
   "source": [
    "happiest_country = happy_df.loc[happy_df['Country'] == 'Finland']\n",
    "happiest_country_df = pd.DataFrame({'Country' : happiest_country['Country'],\n",
    "                                    'Happiness Score' : happiest_country['Happiness Score']})\n",
    "happiest_country_df"
   ]
  },
  {
   "cell_type": "code",
   "execution_count": 12,
   "metadata": {},
   "outputs": [
    {
     "data": {
      "text/html": [
       "<div>\n",
       "<style scoped>\n",
       "    .dataframe tbody tr th:only-of-type {\n",
       "        vertical-align: middle;\n",
       "    }\n",
       "\n",
       "    .dataframe tbody tr th {\n",
       "        vertical-align: top;\n",
       "    }\n",
       "\n",
       "    .dataframe thead th {\n",
       "        text-align: right;\n",
       "    }\n",
       "</style>\n",
       "<table border=\"1\" class=\"dataframe\">\n",
       "  <thead>\n",
       "    <tr style=\"text-align: right;\">\n",
       "      <th></th>\n",
       "      <th>Country</th>\n",
       "      <th>Happiness Score</th>\n",
       "    </tr>\n",
       "  </thead>\n",
       "  <tbody>\n",
       "    <tr>\n",
       "      <th>0</th>\n",
       "      <td>Finland</td>\n",
       "      <td>7.821</td>\n",
       "    </tr>\n",
       "    <tr>\n",
       "      <th>3</th>\n",
       "      <td>Switzerland</td>\n",
       "      <td>7.512</td>\n",
       "    </tr>\n",
       "    <tr>\n",
       "      <th>13</th>\n",
       "      <td>United States of America</td>\n",
       "      <td>6.977</td>\n",
       "    </tr>\n",
       "    <tr>\n",
       "      <th>6</th>\n",
       "      <td>Norway</td>\n",
       "      <td>7.365</td>\n",
       "    </tr>\n",
       "    <tr>\n",
       "      <th>12</th>\n",
       "      <td>Canada</td>\n",
       "      <td>7.025</td>\n",
       "    </tr>\n",
       "    <tr>\n",
       "      <th>9</th>\n",
       "      <td>Australia</td>\n",
       "      <td>7.162</td>\n",
       "    </tr>\n",
       "  </tbody>\n",
       "</table>\n",
       "</div>"
      ],
      "text/plain": [
       "                     Country  Happiness Score\n",
       "0                    Finland            7.821\n",
       "3                Switzerland            7.512\n",
       "13  United States of America            6.977\n",
       "6                     Norway            7.365\n",
       "12                    Canada            7.025\n",
       "9                  Australia            7.162"
      ]
     },
     "execution_count": 12,
     "metadata": {},
     "output_type": "execute_result"
    }
   ],
   "source": [
    "# avg_income['Country + Rank'] = avg_income['Country'] + \" (Happiness Rank: \" + avg_income['RANK'].astype(str) +\")\"\n",
    "\n",
    "avg_income_bcdata = pd.DataFrame({'Country' : avg_income['Country'], \n",
    "                                  'Happiness Score' : avg_income['Happiness Score'],})\n",
    "\n",
    "avg_income_bcdata = avg_income_bcdata.head(5)\n",
    "avg_income_concat_df = pd.concat([happiest_country_df, avg_income_bcdata])\n",
    "avg_income_concat_df"
   ]
  },
  {
   "cell_type": "code",
   "execution_count": 31,
   "metadata": {},
   "outputs": [
    {
     "data": {
      "image/png": "[encoded data removed]",
      "text/plain": [
       "<Figure size 576x360 with 1 Axes>"
      ]
     },
     "metadata": {},
     "output_type": "display_data"
    }
   ],
   "source": [
    "# colors = {avg_income_concat_df.loc[avg_income_concat_df['Country'] == 'Finland'] : 'gold',\n",
    "#           avg_income_concat_df.loc[avg_income_concat_df['Country'] == 'Switzerland'] : 'seagreen',\n",
    "#           avg_income_concat_df.loc[avg_income_concat_df['Country'] == 'United States of America'] : 'seagreen',\n",
    "#           avg_income_concat_df.loc[avg_income_concat_df['Country'] == 'Norway'] : 'seagreen',\n",
    "#           avg_income_concat_df.loc[avg_income_concat_df['Country'] == 'Canada'] : 'seagreen',\n",
    "#           avg_income_concat_df.loc[avg_income_concat_df['Country'] == 'Australia'] : 'seagreen'}\n",
    "\n",
    "avg_income_bc = avg_income_concat_df.plot(kind = 'bar', color = 'seagreen', figsize = (8,5))\n",
    "\n",
    "plt.title('Happiness Score of Top 5 Countries w/ Highest Avg. Income vs. Happiest Country: Finland', fontsize = 10)\n",
    "plt.xlabel('Country')\n",
    "plt.ylabel('Happiness Score')\n",
    "\n",
    "xticks = avg_income_concat_df['Country']\n",
    "avg_income_bc.set_xticklabels(xticks, rotation=45, rotation_mode=\"anchor\", ha=\"right\", wrap=True)\n",
    "\n",
    "plt.show()\n",
    "\n",
    "# Need to figure out how to change the color of just one bar (Finland)\n",
    "# Thoughts on adding an avg. happiness score line to these bar charts??"
   ]
  },
  {
   "cell_type": "markdown",
   "metadata": {},
   "source": [
    "## Happiness by annual sunshine \n",
    "#### Q: Does the weather of a country (av sunshine) influence happiness?"
   ]
  },
  {
   "cell_type": "code",
   "execution_count": null,
   "metadata": {
    "scrolled": true
   },
   "outputs": [],
   "source": [
    "linear_regression(happy_df['Happiness Score'], happy_df['Sunshine Hrs per Year'], 'Happiness Score', 'Sunshine Hours per Year', 3, 1500)"
   ]
  },
  {
   "cell_type": "code",
   "execution_count": null,
   "metadata": {},
   "outputs": [],
   "source": [
    "annual_sunshine = happy_df.sort_values('Sunshine Hrs per Year', ascending = False)\n",
    "annual_sunshine.head()"
   ]
  },
  {
   "cell_type": "markdown",
   "metadata": {},
   "source": [
    "## Happiness by life expectancy\n",
    "#### Q: Are countries with longer life expectancies happier?"
   ]
  },
  {
   "cell_type": "code",
   "execution_count": null,
   "metadata": {},
   "outputs": [],
   "source": [
    "linear_regression(happy_df['Happiness Score'], happy_df['Healthy Life Expectancy'], 'Happiness Score', 'Healthy Life Expectancy', 3, 0.8)"
   ]
  },
  {
   "cell_type": "code",
   "execution_count": null,
   "metadata": {},
   "outputs": [],
   "source": [
    "life_expectancy = happy_df.sort_values('Healthy Life Expectancy', ascending = False)\n",
    "life_expectancy.head()"
   ]
  },
  {
   "cell_type": "markdown",
   "metadata": {},
   "source": [
    "## Happiness by alcohol consumption\n",
    "#### Q: Does Alcohol Influence happiness?"
   ]
  },
  {
   "cell_type": "code",
   "execution_count": null,
   "metadata": {},
   "outputs": [],
   "source": [
    "linear_regression(happy_df['Happiness Score'], happy_df['Alcohol Consumption (L/year)'], 'Happiness Score', 'Alcohol Consumption (L/year)', 5.5, 1.5)"
   ]
  },
  {
   "cell_type": "code",
   "execution_count": null,
   "metadata": {},
   "outputs": [],
   "source": [
    "alcohol_consumption = happy_df.sort_values('Alcohol Consumption (L/year)', ascending = False)\n",
    "alcohol_consumption.head()"
   ]
  }
 ],
 "metadata": {
  "kernelspec": {
   "display_name": "Python 3",
   "language": "python",
   "name": "python3"
  },
  "language_info": {
   "codemirror_mode": {
    "name": "ipython",
    "version": 3
   },
   "file_extension": ".py",
   "mimetype": "text/x-python",
   "name": "python",
   "nbconvert_exporter": "python",
   "pygments_lexer": "ipython3",
   "version": "3.6.10"
  }
 },
 "nbformat": 4,
 "nbformat_minor": 5
}
