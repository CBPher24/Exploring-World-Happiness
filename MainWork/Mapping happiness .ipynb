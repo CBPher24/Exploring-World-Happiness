{
 "cells": [
  {
   "cell_type": "code",
   "execution_count": null,
   "id": "88491c20",
   "metadata": {},
   "outputs": [],
   "source": [
    "# blanket import modules\n",
    "import matplotlib.pyplot as plt\n",
    "import pandas as pd\n",
    "import scipy.stats as st\n",
    "import numpy as np\n",
    "import pprint\n",
    "from scipy.stats import linregress\n",
    "import requests\n",
    "import gmaps\n",
    "import gmaps.geojson_geometries\n",
    "from api_keys import gkey\n",
    "from matplotlib.colors import to_hex\n",
    "\n",
    "#api key\n",
    "gmaps.configure(api_key=gkey)"
   ]
  },
  {
   "cell_type": "code",
   "execution_count": null,
   "id": "c27dd33a",
   "metadata": {},
   "outputs": [],
   "source": [
    "happy_cs = \"Output/happy_comb-data.csv\""
   ]
  },
  {
   "cell_type": "code",
   "execution_count": null,
   "id": "dc7f3116",
   "metadata": {},
   "outputs": [],
   "source": [
    "happy_df = pd.read_csv(happy_cs)\n",
    "happy_df"
   ]
  },
  {
   "cell_type": "code",
   "execution_count": null,
   "id": "d3adbae4",
   "metadata": {},
   "outputs": [],
   "source": [
    "#making initial map with lines around country to fill later\n",
    "countries_geojson = gmaps.geojson_geometries.load_geometry('countries')\n",
    "fig = gmaps.figure()\n",
    "happy_layer=gmaps.geojson_layer(countries_geojson)\n",
    "fig.add_layer(happy_layer)\n",
    "fig\n"
   ]
  },
  {
   "cell_type": "code",
   "execution_count": null,
   "id": "6822d05e",
   "metadata": {},
   "outputs": [],
   "source": [
    "# need to get the min and the max of happiness\n",
    "happy_df=happy_df.set_index([\"Country\"])"
   ]
  },
  {
   "cell_type": "code",
   "execution_count": null,
   "id": "57619973",
   "metadata": {},
   "outputs": [],
   "source": [
    "happy_df.dtypes"
   ]
  },
  {
   "cell_type": "code",
   "execution_count": null,
   "id": "a55cf49f",
   "metadata": {},
   "outputs": [],
   "source": [
    "happy_col=happy_df[\"Happiness score\"]\n",
    "h_range=[]\n",
    "\n",
    "for x in happy_col:\n",
    "    happ_conv= x / 10\n",
    "    h_range.append(happ_conv)\n",
    "    \n",
    "# happy_range=happ_max-happ_min\n",
    "\n",
    "happy_df['Happiness Range'] = h_range\n",
    "happy_df"
   ]
  },
  {
   "cell_type": "code",
   "execution_count": null,
   "id": "bc14345e",
   "metadata": {},
   "outputs": [],
   "source": [
    "happ_max1=happy_df[\"Happiness score\"].max()\n",
    "happ_min1=happy_df[\"Happiness score\"].min()\n",
    "\n",
    "def calculate_color(\"Happiness score\"):"
   ]
  }
 ],
 "metadata": {
  "kernelspec": {
   "display_name": "Python 3 (ipykernel)",
   "language": "python",
   "name": "python3"
  },
  "language_info": {
   "codemirror_mode": {
    "name": "ipython",
    "version": 3
   },
   "file_extension": ".py",
   "mimetype": "text/x-python",
   "name": "python",
   "nbconvert_exporter": "python",
   "pygments_lexer": "ipython3",
   "version": "3.9.7"
  }
 },
 "nbformat": 4,
 "nbformat_minor": 5
}
