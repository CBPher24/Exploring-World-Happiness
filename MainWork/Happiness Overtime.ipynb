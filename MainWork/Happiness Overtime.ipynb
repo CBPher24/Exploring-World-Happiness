{
 "cells": [
  {
   "cell_type": "code",
   "execution_count": 2,
   "metadata": {},
   "outputs": [],
   "source": [
    "# Import dependencies\n",
    "import matplotlib.pyplot as plt\n",
    "import pandas as pd\n",
    "import scipy.stats as st\n",
    "import numpy as np\n",
    "import pprint\n",
    "from scipy.stats import linregress"
   ]
  },
  {
   "cell_type": "code",
   "execution_count": 3,
   "metadata": {},
   "outputs": [],
   "source": [
    "happy_years_csv = \"Output/multiple_year_data.csv\""
   ]
  },
  {
   "cell_type": "code",
   "execution_count": null,
   "metadata": {},
   "outputs": [],
   "source": [
    "happy_years_df = pd.read_csv(happy_years_csv)\n",
    "happy_years_df"
   ]
  },
  {
   "cell_type": "code",
   "execution_count": 5,
   "metadata": {},
   "outputs": [],
   "source": [
    "# Did covid impact happiness?\n",
    "avg_happy_2015 = happy_years_df['2015 Happiness Score'].mean()\n",
    "avg_happy_2016 = happy_years_df['2016 Happiness Score'].mean()\n",
    "avg_happy_2017 = happy_years_df['2017 Happiness Score'].mean()\n",
    "avg_happy_2018 = happy_years_df['2018 Happiness Score'].mean()\n",
    "avg_happy_2019 = happy_years_df['2019 Happiness Score'].mean()\n",
    "avg_happy_2020 = happy_years_df['2020 Happiness Score'].mean()\n",
    "avg_happy_2021 = happy_years_df['2021 Happiness Score'].mean()\n",
    "avg_happy_2022 = happy_years_df['2022 Happiness Score'].mean()"
   ]
  },
  {
   "cell_type": "code",
   "execution_count": 6,
   "metadata": {
    "scrolled": false
   },
   "outputs": [
    {
     "data": {
      "text/html": [
       "<div>\n",
       "<style scoped>\n",
       "    .dataframe tbody tr th:only-of-type {\n",
       "        vertical-align: middle;\n",
       "    }\n",
       "\n",
       "    .dataframe tbody tr th {\n",
       "        vertical-align: top;\n",
       "    }\n",
       "\n",
       "    .dataframe thead th {\n",
       "        text-align: right;\n",
       "    }\n",
       "</style>\n",
       "<table border=\"1\" class=\"dataframe\">\n",
       "  <thead>\n",
       "    <tr style=\"text-align: right;\">\n",
       "      <th></th>\n",
       "      <th>Year</th>\n",
       "      <th>Avg. Happiness</th>\n",
       "    </tr>\n",
       "  </thead>\n",
       "  <tbody>\n",
       "    <tr>\n",
       "      <th>0</th>\n",
       "      <td>2015</td>\n",
       "      <td>5.526667</td>\n",
       "    </tr>\n",
       "    <tr>\n",
       "      <th>1</th>\n",
       "      <td>2016</td>\n",
       "      <td>5.534444</td>\n",
       "    </tr>\n",
       "    <tr>\n",
       "      <th>2</th>\n",
       "      <td>2017</td>\n",
       "      <td>5.550256</td>\n",
       "    </tr>\n",
       "    <tr>\n",
       "      <th>3</th>\n",
       "      <td>2018</td>\n",
       "      <td>5.586838</td>\n",
       "    </tr>\n",
       "    <tr>\n",
       "      <th>4</th>\n",
       "      <td>2019</td>\n",
       "      <td>5.623248</td>\n",
       "    </tr>\n",
       "    <tr>\n",
       "      <th>5</th>\n",
       "      <td>2020</td>\n",
       "      <td>5.672650</td>\n",
       "    </tr>\n",
       "    <tr>\n",
       "      <th>6</th>\n",
       "      <td>2021</td>\n",
       "      <td>5.697350</td>\n",
       "    </tr>\n",
       "    <tr>\n",
       "      <th>7</th>\n",
       "      <td>2022</td>\n",
       "      <td>5.675385</td>\n",
       "    </tr>\n",
       "  </tbody>\n",
       "</table>\n",
       "</div>"
      ],
      "text/plain": [
       "   Year  Avg. Happiness\n",
       "0  2015        5.526667\n",
       "1  2016        5.534444\n",
       "2  2017        5.550256\n",
       "3  2018        5.586838\n",
       "4  2019        5.623248\n",
       "5  2020        5.672650\n",
       "6  2021        5.697350\n",
       "7  2022        5.675385"
      ]
     },
     "execution_count": 6,
     "metadata": {},
     "output_type": "execute_result"
    }
   ],
   "source": [
    "avg_happiness_df = pd.DataFrame({'Year': [2015,2016,2017,2018,2019,2020,2021,2022], \n",
    "                                 'Avg. Happiness': [avg_happy_2015,avg_happy_2016,avg_happy_2017,avg_happy_2018,\n",
    "                                                    avg_happy_2019,avg_happy_2020,avg_happy_2021,avg_happy_2022]})\n",
    "avg_happiness_df"
   ]
  },
  {
   "cell_type": "code",
   "execution_count": 7,
   "metadata": {},
   "outputs": [
    {
     "data": {
      "image/png": "[encoded data removed]",
      "text/plain": [
       "<Figure size 432x288 with 1 Axes>"
      ]
     },
     "metadata": {
      "needs_background": "light"
     },
     "output_type": "display_data"
    }
   ],
   "source": [
    "x_axis = avg_happiness_df['Year']\n",
    "y_axis = avg_happiness_df['Avg. Happiness']\n",
    "\n",
    "plt.plot(x_axis, y_axis, marker = 'o', color = 'navy', linewidth = 1.5)\n",
    "\n",
    "plt.rcParams[\"font.family\"] = \"Times New Roman\"\n",
    "plt.xlabel('Year')\n",
    "plt.ylabel('Avg. Happiness')\n",
    "plt.title('Average Happiness (2015-2022)', fontsize = 14)\n",
    "\n",
    "plt.tight_layout()\n",
    "plt.savefig('Images/Average Happiness (2015-2022).png')\n",
    "plt.show()"
   ]
  },
  {
   "cell_type": "code",
   "execution_count": 8,
   "metadata": {},
   "outputs": [
    {
     "data": {
      "text/html": [
       "<div>\n",
       "<style scoped>\n",
       "    .dataframe tbody tr th:only-of-type {\n",
       "        vertical-align: middle;\n",
       "    }\n",
       "\n",
       "    .dataframe tbody tr th {\n",
       "        vertical-align: top;\n",
       "    }\n",
       "\n",
       "    .dataframe thead th {\n",
       "        text-align: right;\n",
       "    }\n",
       "</style>\n",
       "<table border=\"1\" class=\"dataframe\">\n",
       "  <thead>\n",
       "    <tr style=\"text-align: right;\">\n",
       "      <th></th>\n",
       "      <th>Country</th>\n",
       "      <th>2022 Rank</th>\n",
       "      <th>2022 Happiness Score</th>\n",
       "      <th>2021 Rank</th>\n",
       "      <th>2021 Happiness Score</th>\n",
       "      <th>2020 Rank</th>\n",
       "      <th>2020 Happiness Score</th>\n",
       "      <th>2019 Rank</th>\n",
       "      <th>2019 Happiness Score</th>\n",
       "      <th>2018 Rank</th>\n",
       "      <th>2018 Happiness Score</th>\n",
       "      <th>2017 Rank</th>\n",
       "      <th>2017 Happiness Score</th>\n",
       "      <th>2016 Rank</th>\n",
       "      <th>2016 Happiness Score</th>\n",
       "      <th>2015 Rank</th>\n",
       "      <th>2015 Happiness Score</th>\n",
       "    </tr>\n",
       "  </thead>\n",
       "  <tbody>\n",
       "    <tr>\n",
       "      <th>0</th>\n",
       "      <td>Finland</td>\n",
       "      <td>1</td>\n",
       "      <td>7.82</td>\n",
       "      <td>1</td>\n",
       "      <td>7.84</td>\n",
       "      <td>1</td>\n",
       "      <td>7.81</td>\n",
       "      <td>1</td>\n",
       "      <td>7.77</td>\n",
       "      <td>1</td>\n",
       "      <td>7.63</td>\n",
       "      <td>5</td>\n",
       "      <td>7.47</td>\n",
       "      <td>5</td>\n",
       "      <td>7.41</td>\n",
       "      <td>6</td>\n",
       "      <td>7.41</td>\n",
       "    </tr>\n",
       "    <tr>\n",
       "      <th>1</th>\n",
       "      <td>Denmark</td>\n",
       "      <td>2</td>\n",
       "      <td>7.64</td>\n",
       "      <td>2</td>\n",
       "      <td>7.62</td>\n",
       "      <td>2</td>\n",
       "      <td>7.65</td>\n",
       "      <td>2</td>\n",
       "      <td>7.60</td>\n",
       "      <td>3</td>\n",
       "      <td>7.56</td>\n",
       "      <td>2</td>\n",
       "      <td>7.52</td>\n",
       "      <td>1</td>\n",
       "      <td>7.53</td>\n",
       "      <td>3</td>\n",
       "      <td>7.53</td>\n",
       "    </tr>\n",
       "    <tr>\n",
       "      <th>2</th>\n",
       "      <td>Iceland</td>\n",
       "      <td>3</td>\n",
       "      <td>7.56</td>\n",
       "      <td>4</td>\n",
       "      <td>7.55</td>\n",
       "      <td>4</td>\n",
       "      <td>7.50</td>\n",
       "      <td>4</td>\n",
       "      <td>7.49</td>\n",
       "      <td>4</td>\n",
       "      <td>7.50</td>\n",
       "      <td>3</td>\n",
       "      <td>7.50</td>\n",
       "      <td>3</td>\n",
       "      <td>7.50</td>\n",
       "      <td>2</td>\n",
       "      <td>7.56</td>\n",
       "    </tr>\n",
       "    <tr>\n",
       "      <th>3</th>\n",
       "      <td>Switzerland</td>\n",
       "      <td>4</td>\n",
       "      <td>7.51</td>\n",
       "      <td>3</td>\n",
       "      <td>7.57</td>\n",
       "      <td>3</td>\n",
       "      <td>7.56</td>\n",
       "      <td>6</td>\n",
       "      <td>7.48</td>\n",
       "      <td>5</td>\n",
       "      <td>7.49</td>\n",
       "      <td>4</td>\n",
       "      <td>7.49</td>\n",
       "      <td>2</td>\n",
       "      <td>7.51</td>\n",
       "      <td>1</td>\n",
       "      <td>7.59</td>\n",
       "    </tr>\n",
       "    <tr>\n",
       "      <th>4</th>\n",
       "      <td>Netherlands</td>\n",
       "      <td>5</td>\n",
       "      <td>7.42</td>\n",
       "      <td>5</td>\n",
       "      <td>7.46</td>\n",
       "      <td>6</td>\n",
       "      <td>7.45</td>\n",
       "      <td>5</td>\n",
       "      <td>7.49</td>\n",
       "      <td>6</td>\n",
       "      <td>7.44</td>\n",
       "      <td>6</td>\n",
       "      <td>7.38</td>\n",
       "      <td>7</td>\n",
       "      <td>7.34</td>\n",
       "      <td>7</td>\n",
       "      <td>7.38</td>\n",
       "    </tr>\n",
       "  </tbody>\n",
       "</table>\n",
       "</div>"
      ],
      "text/plain": [
       "       Country  2022 Rank  2022 Happiness Score  2021 Rank  \\\n",
       "0      Finland          1                  7.82          1   \n",
       "1      Denmark          2                  7.64          2   \n",
       "2      Iceland          3                  7.56          4   \n",
       "3  Switzerland          4                  7.51          3   \n",
       "4  Netherlands          5                  7.42          5   \n",
       "\n",
       "   2021 Happiness Score  2020 Rank  2020 Happiness Score  2019 Rank  \\\n",
       "0                  7.84          1                  7.81          1   \n",
       "1                  7.62          2                  7.65          2   \n",
       "2                  7.55          4                  7.50          4   \n",
       "3                  7.57          3                  7.56          6   \n",
       "4                  7.46          6                  7.45          5   \n",
       "\n",
       "   2019 Happiness Score  2018 Rank  2018 Happiness Score  2017 Rank  \\\n",
       "0                  7.77          1                  7.63          5   \n",
       "1                  7.60          3                  7.56          2   \n",
       "2                  7.49          4                  7.50          3   \n",
       "3                  7.48          5                  7.49          4   \n",
       "4                  7.49          6                  7.44          6   \n",
       "\n",
       "   2017 Happiness Score  2016 Rank  2016 Happiness Score  2015 Rank  \\\n",
       "0                  7.47          5                  7.41          6   \n",
       "1                  7.52          1                  7.53          3   \n",
       "2                  7.50          3                  7.50          2   \n",
       "3                  7.49          2                  7.51          1   \n",
       "4                  7.38          7                  7.34          7   \n",
       "\n",
       "   2015 Happiness Score  \n",
       "0                  7.41  \n",
       "1                  7.53  \n",
       "2                  7.56  \n",
       "3                  7.59  \n",
       "4                  7.38  "
      ]
     },
     "execution_count": 8,
     "metadata": {},
     "output_type": "execute_result"
    }
   ],
   "source": [
    "# Top 5 countries 2022- trend of happiness over time\n",
    "happiest_countries_2022 = happy_years_df.sort_values('2022 Happiness Score', ascending = False)\n",
    "happiest_countries_top5_2022 = happiest_countries_2022.head()\n",
    "happiest_countries_top5_2022"
   ]
  },
  {
   "cell_type": "code",
   "execution_count": 9,
   "metadata": {},
   "outputs": [
    {
     "data": {
      "text/plain": [
       "Country                 Finland\n",
       "2022 Rank                     1\n",
       "2022 Happiness Score       7.82\n",
       "2021 Rank                     1\n",
       "2021 Happiness Score       7.84\n",
       "2020 Rank                     1\n",
       "2020 Happiness Score       7.81\n",
       "2019 Rank                     1\n",
       "2019 Happiness Score       7.77\n",
       "2018 Rank                     1\n",
       "2018 Happiness Score       7.63\n",
       "2017 Rank                     5\n",
       "2017 Happiness Score       7.47\n",
       "2016 Rank                     5\n",
       "2016 Happiness Score       7.41\n",
       "2015 Rank                     6\n",
       "2015 Happiness Score       7.41\n",
       "Name: 0, dtype: object"
      ]
     },
     "execution_count": 9,
     "metadata": {},
     "output_type": "execute_result"
    }
   ],
   "source": [
    "x_axis = happiest_countries_top5_2022['Country']\n",
    "# y1 = happiest_countries_top5_2022.loc[happiest_countries_top5_2022['Country'][0],:]\n",
    "y1=happiest_countries_top5_2022.iloc[0]\n",
    "# y1 = happiest_countries_top5_2022['2016 Happiness Score']\n",
    "# y1 = happiest_countries_top5_2022['2017 Happiness Score']\n",
    "# y1 = happiest_countries_top5_2022['2018 Happiness Score']\n",
    "# y1 = happiest_countries_top5_2022['2019 Happiness Score']\n",
    "# y1 = happiest_countries_top5_2022['2020 Happiness Score']\n",
    "# y1 = happiest_countries_top5_2022['2021 Happiness Score']\n",
    "# y1 = happiest_countries_top5_2022['2022 Happiness Score']\n",
    "y1"
   ]
  },
  {
   "cell_type": "code",
   "execution_count": 10,
   "metadata": {},
   "outputs": [],
   "source": [
    "# Input for users to input countries to compare- find a way to input country name into the x axis and the chart change\n",
    "# def buildTrace(country):\n",
    "   \n",
    "#    return trace\n",
    "\n",
    "# display default graph with trace1\n",
    "# compare = input('would you like to compare an individual country to this graph (y/n)? ')\n",
    "# while compare = 'y':\n",
    "#    country = input('what country do you want to compare? ')\n",
    "#    trace2 = buildTrace(country)\n",
    "#    display graph with both trace1 and trace2\n",
    "\n",
    "#    compare = input('would you like to compare another country (y/n)? ')\n",
    "# # Print a line plot for the desired countries"
   ]
  },
  {
   "cell_type": "code",
   "execution_count": null,
   "metadata": {},
   "outputs": [],
   "source": [
    "input_country1=input(f'What country would you like to see the score for over the years?')\n",
    "input_country2=input(f'Name a second country you would like to see the score for over the years for?')\n",
    "chosen_df1=happy_years_df.loc[happy_years_df[\"Country\"]==input_country1, [\"2022 Happiness Score\",\"2021 Happiness Score\",\"2020 Happiness Score\",\"2019 Happiness Score\",\"2018 Happiness Score\",\"2017 Happiness Score\",\"2016 Happiness Score\",\"2015 Happiness Score\"]]\n",
    "chosen_df2=happy_years_df.loc[happy_years_df[\"Country\"]==input_country2, [\"2022 Happiness Score\",\"2021 Happiness Score\",\"2020 Happiness Score\",\"2019 Happiness Score\",\"2018 Happiness Score\",\"2017 Happiness Score\",\"2016 Happiness Score\",\"2015 Happiness Score\"]]\n",
    "chosen_df.values.flatten().tolist()\n"
   ]
  },
  {
   "cell_type": "code",
   "execution_count": 52,
   "metadata": {},
   "outputs": [
    {
     "data": {
      "image/png": "[encoded data removed]",
      "text/plain": [
       "<Figure size 432x288 with 1 Axes>"
      ]
     },
     "metadata": {
      "needs_background": "light"
     },
     "output_type": "display_data"
    }
   ],
   "source": [
    "x_axis = avg_happiness_df['Year']\n",
    "y_axis = avg_happiness_df['Avg. Happiness']\n",
    "\n",
    "plt.plot(x_axis, y_axis, marker = 'o', color = 'navy', linewidth = 1.5, label=\"Average Happiness Over Time\")\n",
    "plt.plot(x_axis,chosen_df1.values.flatten().tolist(), marker='o',color='red',linewidth=1.5, label=input_country1)\n",
    "plt.plot(x_axis,chosen_df2.values.flatten().tolist(), marker='o',color='#912CEE',linewidth=1.5, label=input_country2)\n",
    "\n",
    "legend = plt.legend(loc = 'center right', fontsize = 10, bbox_to_anchor=(.5, .70))\n",
    "\n",
    "\n",
    "plt.rcParams[\"font.family\"] = \"Times New Roman\"\n",
    "plt.xlabel('Year')\n",
    "plt.ylabel('Avg. Happiness')\n",
    "plt.title('Average Happiness (2015-2022)', fontsize = 14)\n",
    "\n",
    "plt.tight_layout()\n",
    "plt.savefig('Images/Average Happiness (2015-2022).png')\n",
    "plt.show()"
   ]
  },
  {
   "cell_type": "code",
   "execution_count": null,
   "metadata": {},
   "outputs": [],
   "source": [
    "pd.set_option(\"display.max_rows\",None)\n",
    "happy_years_df"
   ]
  },
  {
   "cell_type": "code",
   "execution_count": null,
   "metadata": {},
   "outputs": [],
   "source": []
  }
 ],
 "metadata": {
  "kernelspec": {
   "display_name": "Python 3 (ipykernel)",
   "language": "python",
   "name": "python3"
  },
  "language_info": {
   "codemirror_mode": {
    "name": "ipython",
    "version": 3
   },
   "file_extension": ".py",
   "mimetype": "text/x-python",
   "name": "python",
   "nbconvert_exporter": "python",
   "pygments_lexer": "ipython3",
   "version": "3.9.7"
  }
 },
 "nbformat": 4,
 "nbformat_minor": 4
}
