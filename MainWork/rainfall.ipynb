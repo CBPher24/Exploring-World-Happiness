{
 "cells": [
  {
   "cell_type": "code",
   "execution_count": 1,
   "id": "d0152ef8",
   "metadata": {},
   "outputs": [],
   "source": [
    "#blanket import modules\n",
    "import pandas as pd\n",
    "import requests\n",
    "import time\n",
    "import pprint\n",
    "import pycountry\n",
    "from datetime import date\n",
    "\n",
    "\n",
    "# Import API key\n",
    "from api_keys import weather_api_key"
   ]
  },
  {
   "cell_type": "code",
   "execution_count": 2,
   "id": "499118bc",
   "metadata": {},
   "outputs": [],
   "source": [
    "#data to pull cities from\n",
    "sunshine_cs = \"../Resources/sunshine hours by city.csv\"\n",
    "sunshine_df = pd.read_csv(sunshine_cs)"
   ]
  },
  {
   "cell_type": "code",
   "execution_count": 3,
   "id": "fd6be956",
   "metadata": {},
   "outputs": [],
   "source": [
    "#lists to be made\n",
    "city = []\n",
    "country = []\n",
    "coun_abb = []\n"
   ]
  },
  {
   "cell_type": "code",
   "execution_count": 4,
   "id": "a259f0dd",
   "metadata": {},
   "outputs": [],
   "source": [
    "#loop to make city and country list\n",
    "for i in sunshine_df.index:\n",
    "    city.append(sunshine_df[\"City\"][i])\n",
    "    country.append(sunshine_df[\"Country\"][i])"
   ]
  },
  {
   "cell_type": "code",
   "execution_count": 5,
   "id": "cc89cca3",
   "metadata": {},
   "outputs": [],
   "source": [
    "#loop to get abbreviation of \n",
    "for a in country:\n",
    "    try:\n",
    "        test = pycountry.countries.search_fuzzy(a)\n",
    "        #print(test)\n",
    "        coun_abb.append(test[0].alpha_2)\n",
    "    except:\n",
    "        coun_abb.append(None)\n"
   ]
  },
  {
   "cell_type": "code",
   "execution_count": 10,
   "id": "561519b4",
   "metadata": {},
   "outputs": [
    {
     "name": "stdout",
     "output_type": "stream",
     "text": [
      "<zip object at 0x0000019CB1C84A40>\n"
     ]
    }
   ],
   "source": [
    "place = zip(city, coun_abb)\n",
    "print(place)"
   ]
  },
  {
   "cell_type": "code",
   "execution_count": 12,
   "id": "7c048379",
   "metadata": {},
   "outputs": [
    {
     "ename": "SyntaxError",
     "evalue": "f-string: invalid syntax (Temp/ipykernel_1260/1678600755.py, line 1)",
     "output_type": "error",
     "traceback": [
      "\u001b[1;36m  File \u001b[1;32m\"C:\\Users\\CHRISP~1\\AppData\\Local\\Temp/ipykernel_1260/1678600755.py\"\u001b[1;36m, line \u001b[1;32m1\u001b[0m\n\u001b[1;33m    test = requests.get(f\"https://history.openweathermap.org/data/2.5/aggregated/year?q={city[0]},{coun_abb[0]}&appid={API key}\")\u001b[0m\n\u001b[1;37m         ^\u001b[0m\n\u001b[1;31mSyntaxError\u001b[0m\u001b[1;31m:\u001b[0m f-string: invalid syntax\n"
     ]
    }
   ],
   "source": [
    "test = requests.get(f\"https://history.openweathermap.org/data/2.5/aggregated/year?q={city[0]},{coun_abb[0]}&appid={API key}\")"
   ]
  },
  {
   "cell_type": "code",
   "execution_count": null,
   "id": "7e4447b2",
   "metadata": {},
   "outputs": [],
   "source": [
    "#print(cities)\n",
    "counter = 0\n",
    "url = \"https://history.openweathermap.org/data/2.5/aggregated/year?q=\"\n",
    "# #loop to query cities\n",
    "for p in place:\n",
    "    try:\n",
    "        output = requests.get(f\"{url}{p[0]},{p[1]}&appid={API key}\").json()\n",
    "        print(f\"Success: Progress {counter} of {len(cities)-1} | {City_ID},{output['name']}\")\n",
    "        city_pull = {\"City\": (output[\"name\"]),\n",
    "                 \"Cloudiness\": (output[\"clouds\"][\"all\"]),\n",
    "                 \"Country\": (output[\"sys\"][\"country\"]),\n",
    "                 \"Date\": (output[\"dt\"]),\n",
    "                 \"Humidity\": (output[\"main\"][\"humidity\"]),\n",
    "                 \"Lat\": (output[\"coord\"][\"lat\"]),\n",
    "                 \"Lng\": (output[\"coord\"][\"lon\"]),\n",
    "                 \"Max Temp\": (output[\"main\"][\"temp_max\"]),\n",
    "                 \"Wind Speed\": (output[\"wind\"][\"speed\"])}\n",
    "        weather[City_ID] = city_pull\n",
    "        City_ID += 1\n",
    "    except:\n",
    "        print(f\"Fail: Progress {counter} of {len(cities)}\")\n",
    "    counter += 1"
   ]
  }
 ],
 "metadata": {
  "kernelspec": {
   "display_name": "Python 3 (ipykernel)",
   "language": "python",
   "name": "python3"
  },
  "language_info": {
   "codemirror_mode": {
    "name": "ipython",
    "version": 3
   },
   "file_extension": ".py",
   "mimetype": "text/x-python",
   "name": "python",
   "nbconvert_exporter": "python",
   "pygments_lexer": "ipython3",
   "version": "3.9.7"
  }
 },
 "nbformat": 4,
 "nbformat_minor": 5
}
